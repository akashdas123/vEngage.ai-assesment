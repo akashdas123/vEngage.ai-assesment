{
 "cells": [
  {
   "cell_type": "code",
   "execution_count": 1,
   "id": "00f599cf",
   "metadata": {},
   "outputs": [
    {
     "name": "stdout",
     "output_type": "stream",
     "text": [
      "Collecting faker\n",
      "  Downloading Faker-20.1.0-py3-none-any.whl.metadata (15 kB)\n",
      "Requirement already satisfied: python-dateutil>=2.4 in c:\\users\\akashdas\\anaconda3\\envs\\myenv\\lib\\site-packages (from faker) (2.8.2)\n",
      "Requirement already satisfied: typing-extensions>=3.10.0.1 in c:\\users\\akashdas\\anaconda3\\envs\\myenv\\lib\\site-packages (from faker) (4.4.0)\n",
      "Requirement already satisfied: six>=1.5 in c:\\users\\akashdas\\anaconda3\\envs\\myenv\\lib\\site-packages (from python-dateutil>=2.4->faker) (1.16.0)\n",
      "Downloading Faker-20.1.0-py3-none-any.whl (1.7 MB)\n",
      "   ---------------------------------------- 0.0/1.7 MB ? eta -:--:--\n",
      "   ---- ----------------------------------- 0.2/1.7 MB 3.9 MB/s eta 0:00:01\n",
      "   ----- ---------------------------------- 0.2/1.7 MB 2.4 MB/s eta 0:00:01\n",
      "   ------ --------------------------------- 0.3/1.7 MB 1.6 MB/s eta 0:00:01\n",
      "   ------- -------------------------------- 0.3/1.7 MB 1.3 MB/s eta 0:00:02\n",
      "   -------- ------------------------------- 0.4/1.7 MB 1.2 MB/s eta 0:00:02\n",
      "   --------- ------------------------------ 0.4/1.7 MB 1.1 MB/s eta 0:00:02\n",
      "   ---------- ----------------------------- 0.5/1.7 MB 1.1 MB/s eta 0:00:02\n",
      "   ----------- ---------------------------- 0.5/1.7 MB 1.0 MB/s eta 0:00:02\n",
      "   ------------ --------------------------- 0.5/1.7 MB 964.2 kB/s eta 0:00:02\n",
      "   ------------ --------------------------- 0.5/1.7 MB 903.5 kB/s eta 0:00:02\n",
      "   ------------ --------------------------- 0.5/1.7 MB 903.5 kB/s eta 0:00:02\n",
      "   ------------ --------------------------- 0.5/1.7 MB 903.5 kB/s eta 0:00:02\n",
      "   ------------ --------------------------- 0.6/1.7 MB 668.4 kB/s eta 0:00:02\n",
      "   ------------ --------------------------- 0.6/1.7 MB 668.4 kB/s eta 0:00:02\n",
      "   ------------ --------------------------- 0.6/1.7 MB 590.1 kB/s eta 0:00:02\n",
      "   ------------ --------------------------- 0.6/1.7 MB 590.1 kB/s eta 0:00:02\n",
      "   ------------ --------------------------- 0.6/1.7 MB 590.1 kB/s eta 0:00:02\n",
      "   ------------ --------------------------- 0.6/1.7 MB 590.1 kB/s eta 0:00:02\n",
      "   ------------ --------------------------- 0.6/1.7 MB 590.1 kB/s eta 0:00:02\n",
      "   ------------ --------------------------- 0.6/1.7 MB 590.1 kB/s eta 0:00:02\n",
      "   ------------ --------------------------- 0.6/1.7 MB 590.1 kB/s eta 0:00:02\n",
      "   ------------- -------------------------- 0.6/1.7 MB 374.6 kB/s eta 0:00:04\n",
      "   ------------- -------------------------- 0.6/1.7 MB 374.6 kB/s eta 0:00:04\n",
      "   ------------- -------------------------- 0.6/1.7 MB 374.6 kB/s eta 0:00:04\n",
      "   ------------- -------------------------- 0.6/1.7 MB 374.6 kB/s eta 0:00:04\n",
      "   ------------- -------------------------- 0.6/1.7 MB 374.6 kB/s eta 0:00:04\n",
      "   ------------- -------------------------- 0.6/1.7 MB 327.8 kB/s eta 0:00:04\n",
      "   ------------- -------------------------- 0.6/1.7 MB 327.8 kB/s eta 0:00:04\n",
      "   -------------- ------------------------- 0.6/1.7 MB 311.9 kB/s eta 0:00:04\n",
      "   -------------- ------------------------- 0.6/1.7 MB 305.1 kB/s eta 0:00:04\n",
      "   -------------- ------------------------- 0.6/1.7 MB 305.1 kB/s eta 0:00:04\n",
      "   --------------- ------------------------ 0.7/1.7 MB 304.0 kB/s eta 0:00:04\n",
      "   --------------- ------------------------ 0.7/1.7 MB 304.7 kB/s eta 0:00:04\n",
      "   ---------------- ----------------------- 0.7/1.7 MB 305.6 kB/s eta 0:00:04\n",
      "   ----------------- ---------------------- 0.7/1.7 MB 312.5 kB/s eta 0:00:04\n",
      "   ----------------- ---------------------- 0.8/1.7 MB 317.1 kB/s eta 0:00:04\n",
      "   ------------------ --------------------- 0.8/1.7 MB 317.4 kB/s eta 0:00:03\n",
      "   ------------------- -------------------- 0.8/1.7 MB 319.8 kB/s eta 0:00:03\n",
      "   ------------------- -------------------- 0.8/1.7 MB 319.9 kB/s eta 0:00:03\n",
      "   ------------------- -------------------- 0.8/1.7 MB 319.9 kB/s eta 0:00:03\n",
      "   ------------------- -------------------- 0.9/1.7 MB 309.1 kB/s eta 0:00:03\n",
      "   ------------------- -------------------- 0.9/1.7 MB 309.1 kB/s eta 0:00:03\n",
      "   ------------------- -------------------- 0.9/1.7 MB 309.1 kB/s eta 0:00:03\n",
      "   ------------------- -------------------- 0.9/1.7 MB 309.1 kB/s eta 0:00:03\n",
      "   -------------------- ------------------- 0.9/1.7 MB 292.1 kB/s eta 0:00:03\n",
      "   -------------------- ------------------- 0.9/1.7 MB 287.0 kB/s eta 0:00:03\n",
      "   -------------------- ------------------- 0.9/1.7 MB 287.0 kB/s eta 0:00:03\n",
      "   --------------------- ------------------ 0.9/1.7 MB 283.6 kB/s eta 0:00:03\n",
      "   --------------------- ------------------ 0.9/1.7 MB 280.0 kB/s eta 0:00:03\n",
      "   ---------------------- ----------------- 1.0/1.7 MB 280.1 kB/s eta 0:00:03\n",
      "   ----------------------- ---------------- 1.0/1.7 MB 285.5 kB/s eta 0:00:03\n",
      "   ----------------------- ---------------- 1.0/1.7 MB 283.3 kB/s eta 0:00:03\n",
      "   ------------------------ --------------- 1.0/1.7 MB 284.1 kB/s eta 0:00:03\n",
      "   ------------------------ --------------- 1.1/1.7 MB 283.7 kB/s eta 0:00:03\n",
      "   ------------------------ --------------- 1.1/1.7 MB 283.7 kB/s eta 0:00:03\n",
      "   ------------------------ --------------- 1.1/1.7 MB 274.8 kB/s eta 0:00:03\n",
      "   ------------------------ --------------- 1.1/1.7 MB 274.8 kB/s eta 0:00:03\n",
      "   ------------------------- -------------- 1.1/1.7 MB 270.3 kB/s eta 0:00:03\n",
      "   ------------------------- -------------- 1.1/1.7 MB 270.3 kB/s eta 0:00:03\n",
      "   ------------------------- -------------- 1.1/1.7 MB 264.7 kB/s eta 0:00:03\n",
      "   ------------------------- -------------- 1.1/1.7 MB 264.6 kB/s eta 0:00:03\n",
      "   ------------------------- -------------- 1.1/1.7 MB 264.6 kB/s eta 0:00:03\n",
      "   ------------------------- -------------- 1.1/1.7 MB 264.6 kB/s eta 0:00:03\n",
      "   -------------------------- ------------- 1.1/1.7 MB 258.0 kB/s eta 0:00:03\n",
      "   -------------------------- ------------- 1.1/1.7 MB 258.0 kB/s eta 0:00:03\n",
      "   -------------------------- ------------- 1.1/1.7 MB 258.0 kB/s eta 0:00:03\n",
      "   -------------------------- ------------- 1.1/1.7 MB 258.0 kB/s eta 0:00:03\n",
      "   -------------------------- ------------- 1.2/1.7 MB 246.3 kB/s eta 0:00:03\n",
      "   --------------------------- ------------ 1.2/1.7 MB 245.8 kB/s eta 0:00:03\n",
      "   --------------------------- ------------ 1.2/1.7 MB 245.8 kB/s eta 0:00:03\n",
      "   --------------------------- ------------ 1.2/1.7 MB 240.8 kB/s eta 0:00:03\n",
      "   --------------------------- ------------ 1.2/1.7 MB 241.9 kB/s eta 0:00:03\n",
      "   ---------------------------- ----------- 1.2/1.7 MB 243.0 kB/s eta 0:00:03\n",
      "   ---------------------------- ----------- 1.3/1.7 MB 243.8 kB/s eta 0:00:02\n",
      "   ---------------------------- ----------- 1.3/1.7 MB 243.8 kB/s eta 0:00:02\n",
      "   ----------------------------- ---------- 1.3/1.7 MB 237.8 kB/s eta 0:00:02\n",
      "   ----------------------------- ---------- 1.3/1.7 MB 237.8 kB/s eta 0:00:02\n",
      "   ----------------------------- ---------- 1.3/1.7 MB 237.8 kB/s eta 0:00:02\n",
      "   ----------------------------- ---------- 1.3/1.7 MB 232.7 kB/s eta 0:00:02\n",
      "   ----------------------------- ---------- 1.3/1.7 MB 232.7 kB/s eta 0:00:02\n",
      "   ----------------------------- ---------- 1.3/1.7 MB 232.7 kB/s eta 0:00:02\n",
      "   ------------------------------ --------- 1.3/1.7 MB 230.6 kB/s eta 0:00:02\n",
      "   ------------------------------ --------- 1.3/1.7 MB 230.6 kB/s eta 0:00:02\n",
      "   ------------------------------ --------- 1.3/1.7 MB 226.7 kB/s eta 0:00:02\n",
      "   ------------------------------ --------- 1.3/1.7 MB 226.7 kB/s eta 0:00:02\n",
      "   ------------------------------ --------- 1.3/1.7 MB 226.7 kB/s eta 0:00:02\n",
      "   ------------------------------ --------- 1.3/1.7 MB 222.5 kB/s eta 0:00:02\n",
      "   ------------------------------ --------- 1.3/1.7 MB 222.5 kB/s eta 0:00:02\n",
      "   ------------------------------ --------- 1.3/1.7 MB 222.5 kB/s eta 0:00:02\n",
      "   ------------------------------- -------- 1.4/1.7 MB 217.9 kB/s eta 0:00:02\n",
      "   ------------------------------- -------- 1.4/1.7 MB 217.9 kB/s eta 0:00:02\n",
      "   -------------------------------- ------- 1.4/1.7 MB 218.5 kB/s eta 0:00:02\n",
      "   -------------------------------- ------- 1.4/1.7 MB 218.5 kB/s eta 0:00:02\n",
      "   -------------------------------- ------- 1.4/1.7 MB 214.8 kB/s eta 0:00:02\n",
      "   -------------------------------- ------- 1.4/1.7 MB 214.8 kB/s eta 0:00:02\n",
      "   -------------------------------- ------- 1.4/1.7 MB 213.8 kB/s eta 0:00:02\n",
      "   --------------------------------- ------ 1.5/1.7 MB 214.4 kB/s eta 0:00:02\n",
      "   --------------------------------- ------ 1.5/1.7 MB 215.0 kB/s eta 0:00:02\n",
      "   --------------------------------- ------ 1.5/1.7 MB 215.0 kB/s eta 0:00:02\n",
      "   --------------------------------- ------ 1.5/1.7 MB 215.0 kB/s eta 0:00:02\n",
      "   ---------------------------------- ----- 1.5/1.7 MB 210.7 kB/s eta 0:00:02\n",
      "   ---------------------------------- ----- 1.5/1.7 MB 210.7 kB/s eta 0:00:02\n",
      "   ---------------------------------- ----- 1.5/1.7 MB 210.7 kB/s eta 0:00:02\n",
      "   ---------------------------------- ----- 1.5/1.7 MB 210.7 kB/s eta 0:00:02\n",
      "   ---------------------------------- ----- 1.5/1.7 MB 210.7 kB/s eta 0:00:02\n",
      "   ---------------------------------- ----- 1.5/1.7 MB 201.4 kB/s eta 0:00:02\n",
      "   ---------------------------------- ----- 1.5/1.7 MB 201.6 kB/s eta 0:00:02\n",
      "   ----------------------------------- ---- 1.5/1.7 MB 203.0 kB/s eta 0:00:02\n",
      "   ------------------------------------ --- 1.6/1.7 MB 205.0 kB/s eta 0:00:01\n",
      "   ------------------------------------ --- 1.6/1.7 MB 207.3 kB/s eta 0:00:01\n",
      "   ------------------------------------- -- 1.6/1.7 MB 211.4 kB/s eta 0:00:01\n",
      "   -------------------------------------- - 1.7/1.7 MB 211.9 kB/s eta 0:00:01\n",
      "   -------------------------------------- - 1.7/1.7 MB 214.1 kB/s eta 0:00:01\n",
      "   ---------------------------------------  1.7/1.7 MB 216.3 kB/s eta 0:00:01\n",
      "   ---------------------------------------  1.7/1.7 MB 216.3 kB/s eta 0:00:01\n",
      "   ---------------------------------------  1.7/1.7 MB 216.3 kB/s eta 0:00:01\n",
      "   ---------------------------------------  1.7/1.7 MB 216.3 kB/s eta 0:00:01\n",
      "   ---------------------------------------- 1.7/1.7 MB 211.2 kB/s eta 0:00:00\n",
      "Installing collected packages: faker\n",
      "Successfully installed faker-20.1.0\n",
      "Note: you may need to restart the kernel to use updated packages.\n"
     ]
    },
    {
     "name": "stderr",
     "output_type": "stream",
     "text": [
      "WARNING: Ignoring invalid distribution -ysql-connector-python (c:\\users\\akashdas\\anaconda3\\envs\\myenv\\lib\\site-packages)\n",
      "WARNING: Ignoring invalid distribution -ysql-connector-python (c:\\users\\akashdas\\anaconda3\\envs\\myenv\\lib\\site-packages)\n",
      "WARNING: There was an error checking the latest version of pip.\n"
     ]
    }
   ],
   "source": [
    "pip install faker\n"
   ]
  },
  {
   "cell_type": "code",
   "execution_count": 38,
   "id": "a2d7bc8a",
   "metadata": {},
   "outputs": [
    {
     "name": "stdout",
     "output_type": "stream",
     "text": [
      "Collecting sqlparse\n",
      "  Downloading sqlparse-0.4.4-py3-none-any.whl (41 kB)\n",
      "     ---------------------------------------- 0.0/41.2 kB ? eta -:--:--\n",
      "     ---------------------------------------  41.0/41.2 kB ? eta -:--:--\n",
      "     ---------------------------------------  41.0/41.2 kB ? eta -:--:--\n",
      "     ---------------------------------------  41.0/41.2 kB ? eta -:--:--\n",
      "     -------------------------------------- 41.2/41.2 kB 152.4 kB/s eta 0:00:00\n",
      "Installing collected packages: sqlparse\n",
      "Successfully installed sqlparse-0.4.4\n",
      "Note: you may need to restart the kernel to use updated packages.\n"
     ]
    },
    {
     "name": "stderr",
     "output_type": "stream",
     "text": [
      "WARNING: Ignoring invalid distribution -ysql-connector-python (c:\\users\\akashdas\\anaconda3\\envs\\myenv\\lib\\site-packages)\n",
      "WARNING: Ignoring invalid distribution -ysql-connector-python (c:\\users\\akashdas\\anaconda3\\envs\\myenv\\lib\\site-packages)\n",
      "WARNING: There was an error checking the latest version of pip.\n"
     ]
    }
   ],
   "source": [
    "pip install sqlparse"
   ]
  },
  {
   "cell_type": "code",
   "execution_count": 82,
   "id": "8720a204",
   "metadata": {},
   "outputs": [
    {
     "name": "stdout",
     "output_type": "stream",
     "text": [
      "Collecting PrettyTable\n",
      "  Downloading prettytable-3.9.0-py3-none-any.whl.metadata (26 kB)\n",
      "Requirement already satisfied: wcwidth in c:\\users\\akashdas\\anaconda3\\envs\\myenv\\lib\\site-packages (from PrettyTable) (0.2.5)\n",
      "Downloading prettytable-3.9.0-py3-none-any.whl (27 kB)\n",
      "Installing collected packages: PrettyTable\n",
      "Successfully installed PrettyTable-3.9.0\n",
      "Note: you may need to restart the kernel to use updated packages.\n"
     ]
    },
    {
     "name": "stderr",
     "output_type": "stream",
     "text": [
      "WARNING: Ignoring invalid distribution -ysql-connector-python (c:\\users\\akashdas\\anaconda3\\envs\\myenv\\lib\\site-packages)\n",
      "WARNING: Ignoring invalid distribution -ysql-connector-python (c:\\users\\akashdas\\anaconda3\\envs\\myenv\\lib\\site-packages)\n",
      "WARNING: There was an error checking the latest version of pip.\n"
     ]
    }
   ],
   "source": [
    "pip install PrettyTable\n"
   ]
  },
  {
   "cell_type": "code",
   "execution_count": 97,
   "id": "0e481b03",
   "metadata": {},
   "outputs": [
    {
     "name": "stdout",
     "output_type": "stream",
     "text": [
      "Requirement already satisfied: pandas in c:\\users\\akashdas\\anaconda3\\envs\\myenv\\lib\\site-packages (2.0.3)\n",
      "Note: you may need to restart the kernel to use updated packages.\n"
     ]
    },
    {
     "name": "stderr",
     "output_type": "stream",
     "text": [
      "WARNING: Ignoring invalid distribution -ysql-connector-python (c:\\users\\akashdas\\anaconda3\\envs\\myenv\\lib\\site-packages)\n",
      "ERROR: Could not find a version that satisfies the requirement sqlite3 (from versions: none)\n",
      "ERROR: No matching distribution found for sqlite3\n",
      "WARNING: There was an error checking the latest version of pip.\n"
     ]
    }
   ],
   "source": [
    "pip install pandas sqlite3\n"
   ]
  },
  {
   "cell_type": "code",
   "execution_count": 214,
   "id": "b4ee110b",
   "metadata": {
    "scrolled": false
   },
   "outputs": [
    {
     "name": "stdout",
     "output_type": "stream",
     "text": [
      "\n",
      "2.1 SELECT * FROM phone_records\n",
      "+-------+--------------------+------------+------------+\n",
      "|  Name |       Email        |   Phone1   |   Phone2   |\n",
      "+-------+--------------------+------------+------------+\n",
      "|  John | John123@gmail.com  | 3011276733 |  51413683  |\n",
      "|  Eric | Eric345@gmail.com  | 807907572  | 7554296020 |\n",
      "|  Doe  |  Doe234@gmail.com  | 2758705568 | 8319638244 |\n",
      "|  Will | Will565@yahoo.com  | 8223003267 | 9299399335 |\n",
      "|  Qery |   Qery@email.com   | 6921864180 | 604475547  |\n",
      "|  Sam  |  Sam87@yahoo.com   | 8449020590 | 6260260918 |\n",
      "|  Mady | Mady8909@gmail.com | 8106230888 | 183258841  |\n",
      "|  Rev  |  Rev67@email.com   | 5397052241 | 7548905021 |\n",
      "|  Zen  |  Zen675@gamil.com  | 967690217  | 5381557406 |\n",
      "| Harry | harr678y@gmail.com | 2334544554 |  23456789  |\n",
      "+-------+--------------------+------------+------------+\n",
      "\n",
      "2.2 SELECT * FROM phone_records WHERE name='Doe'\n",
      "+------+------------------+------------+------------+\n",
      "| Name |      Email       |   Phone1   |   Phone2   |\n",
      "+------+------------------+------------+------------+\n",
      "| Doe  | Doe234@gmail.com | 2758705568 | 8319638244 |\n",
      "+------+------------------+------------+------------+\n",
      "\n",
      "2.3 INSERT INTO phone_records\n",
      "\n",
      "2.1 SELECT * FROM phone_records\n",
      "+-------+--------------------+------------+------------+\n",
      "|  Name |       Email        |   Phone1   |   Phone2   |\n",
      "+-------+--------------------+------------+------------+\n",
      "|  John | John123@gmail.com  | 3011276733 |  51413683  |\n",
      "|  Eric | Eric345@gmail.com  | 807907572  | 7554296020 |\n",
      "|  Doe  |  Doe234@gmail.com  | 2758705568 | 8319638244 |\n",
      "|  Will | Will565@yahoo.com  | 8223003267 | 9299399335 |\n",
      "|  Qery |   Qery@email.com   | 6921864180 | 604475547  |\n",
      "|  Sam  |  Sam87@yahoo.com   | 8449020590 | 6260260918 |\n",
      "|  Mady | Mady8909@gmail.com | 8106230888 | 183258841  |\n",
      "|  Rev  |  Rev67@email.com   | 5397052241 | 7548905021 |\n",
      "|  Zen  |  Zen675@gamil.com  | 967690217  | 5381557406 |\n",
      "| Harry | harr678y@gmail.com | 2334544554 |  23456789  |\n",
      "|  Test |   test@test.xtyz   |  1234456   |  1233233   |\n",
      "+-------+--------------------+------------+------------+\n",
      "\n",
      "2.4 DELETE FROM phone_records WHERE LOWER(Name)='john'\n",
      "\n",
      "2.1 SELECT * FROM phone_records\n",
      "+-------+--------------------+------------+------------+\n",
      "|  Name |       Email        |   Phone1   |   Phone2   |\n",
      "+-------+--------------------+------------+------------+\n",
      "|  Eric | Eric345@gmail.com  | 807907572  | 7554296020 |\n",
      "|  Doe  |  Doe234@gmail.com  | 2758705568 | 8319638244 |\n",
      "|  Will | Will565@yahoo.com  | 8223003267 | 9299399335 |\n",
      "|  Qery |   Qery@email.com   | 6921864180 | 604475547  |\n",
      "|  Sam  |  Sam87@yahoo.com   | 8449020590 | 6260260918 |\n",
      "|  Mady | Mady8909@gmail.com | 8106230888 | 183258841  |\n",
      "|  Rev  |  Rev67@email.com   | 5397052241 | 7548905021 |\n",
      "|  Zen  |  Zen675@gamil.com  | 967690217  | 5381557406 |\n",
      "| Harry | harr678y@gmail.com | 2334544554 |  23456789  |\n",
      "|  Test |   test@test.xtyz   |  1234456   |  1233233   |\n",
      "+-------+--------------------+------------+------------+\n"
     ]
    }
   ],
   "source": [
    "import csv\n",
    "import sqlite3\n",
    "from prettytable import PrettyTable \n",
    "\n",
    "def display_table(data, headers):\n",
    "    if not data:\n",
    "        print(\"No records found.\")\n",
    "        return\n",
    "\n",
    "    table = PrettyTable(headers)\n",
    "\n",
    "    for row in data:\n",
    "        table.add_row(row)\n",
    "\n",
    "    print(table)\n",
    "\n",
    "# Problem 1: Read phone book records from CSV\n",
    "def read_csv(file_path):\n",
    "    records = []\n",
    "    with open(file_path, 'r') as file:\n",
    "        reader = csv.DictReader(file)\n",
    "        for row in reader:\n",
    "            records.append(row)\n",
    "    return records\n",
    "\n",
    "# Problem 2: Implement SQL-like parser for CRUD operations\n",
    "class PhoneBookManager:\n",
    "    def __init__(self, database_name):\n",
    "        self.connection = sqlite3.connect(database_name)\n",
    "        self.cursor = self.connection.cursor()\n",
    "        self.create_table()\n",
    "\n",
    "    def create_table(self):\n",
    "        self.cursor.execute('''\n",
    "            CREATE TABLE IF NOT EXISTS phone_records (\n",
    "                Name TEXT,\n",
    "                Email TEXT,\n",
    "                Phone1 TEXT,\n",
    "                Phone2 TEXT\n",
    "            )\n",
    "        ''')\n",
    "        self.connection.commit()\n",
    "\n",
    "    def execute_query(self, query):\n",
    "        try:\n",
    "            self.cursor.execute(query)\n",
    "            self.connection.commit()\n",
    "            return True\n",
    "        except sqlite3.Error as e:\n",
    "            print(f\"Error executing query: {e}\")\n",
    "            return False\n",
    "\n",
    "    def select_records(self, condition=None):\n",
    "        query = 'SELECT * FROM phone_records'\n",
    "        if condition:\n",
    "            query += f' WHERE {condition}'\n",
    "        return self.cursor.execute(query).fetchall()\n",
    "\n",
    "    def insert_record(self, values):\n",
    "        query = f\"INSERT INTO phone_records(Name, Email, Phone1, Phone2) VALUES {values}\"\n",
    "        return self.execute_query(query)\n",
    "\n",
    "    def delete_record(self, condition):\n",
    "        query = f\"DELETE FROM phone_records WHERE {condition}\"\n",
    "        return self.execute_query(query)\n",
    "\n",
    "# Usage\n",
    "if __name__ == \"__main__\":\n",
    "    # Problem 1\n",
    "    phone_records = read_csv('phone_records1.csv')\n",
    "\n",
    "    # Problem 2\n",
    "    phone_book_manager = PhoneBookManager('phone_books1.db')\n",
    "\n",
    "    # Insert records into the database\n",
    "    existing_names = set()  # To track existing names and avoid duplicates\n",
    "    for record in phone_records:\n",
    "        name = record.get('Name', '').strip()\n",
    "        email = record.get('Email', '')\n",
    "        phone1 = record.get('Phone1', '')\n",
    "        phone2 = record.get('Phone2', '')\n",
    "        \n",
    "        # Check for duplicate names and skip insertion if already exists\n",
    "        if name.lower() not in existing_names:\n",
    "            values = f\"('{name}', '{email}', '{phone1}', '{phone2}')\"\n",
    "            phone_book_manager.insert_record(values)\n",
    "            existing_names.add(name.lower())\n",
    "\n",
    "    # SELECT * FROM phone_records\n",
    "    print(\"\\n2.1 SELECT * FROM phone_records\")\n",
    "    results = phone_book_manager.select_records()\n",
    "    headers = [desc[0] for desc in phone_book_manager.cursor.description]\n",
    "    display_table(results, headers)\n",
    "\n",
    "    # SELECT * FROM phone_records WHERE name='Doe'\n",
    "    print(\"\\n2.2 SELECT * FROM phone_records WHERE name='Doe'\")\n",
    "    results_doe = phone_book_manager.select_records(\"Name='Doe'\")\n",
    "    display_table(results_doe, headers)\n",
    "\n",
    "    # INSERT INTO phone_records\n",
    "    print(\"\\n2.3 INSERT INTO phone_records\")\n",
    "    new_record_values = \"('Test', 'test@test.xtyz', '1234456', '1233233')\"\n",
    "    phone_book_manager.insert_record(new_record_values)\n",
    "\n",
    "    # SELECT * FROM phone_records after insert\n",
    "    print(\"\\n2.1 SELECT * FROM phone_records\")\n",
    "    results_after_insert = phone_book_manager.select_records()\n",
    "    display_table(results_after_insert, headers)\n",
    "\n",
    "    print(\"\\n2.4 DELETE FROM phone_records WHERE LOWER(Name)='john'\")\n",
    "    phone_book_manager.delete_record(\"LOWER(Name)='john'\")\n",
    "\n",
    "    # SELECT * FROM phone_records after delete\n",
    "    print(\"\\n2.1 SELECT * FROM phone_records\")\n",
    "    results_after_delete = phone_book_manager.select_records()\n",
    "    display_table(results_after_delete, headers)\n",
    "\n",
    "    phone_book_manager.connection.close()\n"
   ]
  },
  {
   "cell_type": "code",
   "execution_count": null,
   "id": "2413c947",
   "metadata": {},
   "outputs": [],
   "source": []
  },
  {
   "cell_type": "code",
   "execution_count": null,
   "id": "ee2f2349",
   "metadata": {},
   "outputs": [],
   "source": []
  },
  {
   "cell_type": "code",
   "execution_count": null,
   "id": "2dd5231e",
   "metadata": {},
   "outputs": [],
   "source": [
    "   \n"
   ]
  },
  {
   "cell_type": "code",
   "execution_count": 65,
   "id": "1d9e02ef",
   "metadata": {},
   "outputs": [],
   "source": [
    "    "
   ]
  },
  {
   "cell_type": "code",
   "execution_count": 66,
   "id": "ad893881",
   "metadata": {},
   "outputs": [],
   "source": [
    "  "
   ]
  },
  {
   "cell_type": "code",
   "execution_count": 67,
   "id": "f16e9293",
   "metadata": {},
   "outputs": [],
   "source": [
    "  "
   ]
  },
  {
   "cell_type": "code",
   "execution_count": 68,
   "id": "8941073f",
   "metadata": {},
   "outputs": [],
   "source": [
    "\n"
   ]
  },
  {
   "cell_type": "code",
   "execution_count": null,
   "id": "b5216bd8",
   "metadata": {},
   "outputs": [],
   "source": [
    "\n"
   ]
  },
  {
   "cell_type": "code",
   "execution_count": null,
   "id": "8eb006b0",
   "metadata": {},
   "outputs": [],
   "source": []
  }
 ],
 "metadata": {
  "kernelspec": {
   "display_name": "Python 3 (ipykernel)",
   "language": "python",
   "name": "python3"
  },
  "language_info": {
   "codemirror_mode": {
    "name": "ipython",
    "version": 3
   },
   "file_extension": ".py",
   "mimetype": "text/x-python",
   "name": "python",
   "nbconvert_exporter": "python",
   "pygments_lexer": "ipython3",
   "version": "3.8.18"
  }
 },
 "nbformat": 4,
 "nbformat_minor": 5
}
